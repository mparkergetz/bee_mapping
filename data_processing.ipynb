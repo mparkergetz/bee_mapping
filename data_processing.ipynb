{
 "cells": [
  {
   "cell_type": "code",
   "execution_count": 1,
   "metadata": {},
   "outputs": [],
   "source": [
    "import pandas as pd\n",
    "import rasterio\n",
    "import numpy as np\n",
    "import matplotlib.pyplot as plt\n",
    "import os\n"
   ]
  },
  {
   "cell_type": "code",
   "execution_count": 2,
   "metadata": {},
   "outputs": [
    {
     "name": "stderr",
     "output_type": "stream",
     "text": [
      "/tmp/ipykernel_746317/1039270105.py:1: DtypeWarning: Columns (45,46) have mixed types. Specify dtype option on import or set low_memory=False.\n",
      "  data = pd.read_csv('data/occurrence_data.csv', delimiter='\\t')\n"
     ]
    }
   ],
   "source": [
    "data = pd.read_csv('data/occurrence_data.csv', delimiter='\\t')\n",
    "original_data = data.copy()\n",
    "columns = data.columns"
   ]
  },
  {
   "cell_type": "code",
   "execution_count": 3,
   "metadata": {},
   "outputs": [],
   "source": [
    "data = data.loc[:,['gbifID', 'countryCode', 'locality',\n",
    "       'stateProvince', 'decimalLatitude', 'decimalLongitude', 'elevation',\n",
    "       'eventDate', 'day',\n",
    "       'month', 'year']]\n",
    "data = data.drop(15365)"
   ]
  },
  {
   "cell_type": "code",
   "execution_count": 4,
   "metadata": {},
   "outputs": [],
   "source": [
    "nan_values = data[['day', 'month', 'year']].isna()\n",
    "drop_nans = data[nan_values.any(axis=1)].index\n",
    "data = data.drop(drop_nans)\n",
    "date_columns = data.columns[-3:]\n",
    "data[date_columns] = data[date_columns].astype(int)"
   ]
  },
  {
   "cell_type": "code",
   "execution_count": 5,
   "metadata": {},
   "outputs": [],
   "source": [
    "data_loc_date = data[['decimalLatitude', 'decimalLongitude', 'day',\n",
    "       'month', 'year']]\n",
    "data_loc_date.columns = ['lat', 'lon', 'day',\n",
    "       'month', 'year']\n",
    "nan_vals = data_loc_date.isna()\n",
    "drop_index = nan_vals[nan_vals.any(axis=1)].index\n",
    "data_loc_date = data_loc_date.drop(drop_index)\n",
    "data_loc_date = data_loc_date[data_loc_date['year']>=1960]\n"
   ]
  },
  {
   "cell_type": "code",
   "execution_count": 14,
   "metadata": {},
   "outputs": [],
   "source": [
    "csv_out = data_loc_date.copy()\n",
    "csv_out['id'] = csv_out.index +1\n",
    "csv_out['date'] = csv_out['year'].astype(str) + '_' + csv_out['month'].astype(str) + '_' + csv_out['day'].astype(str)"
   ]
  },
  {
   "cell_type": "code",
   "execution_count": 23,
   "metadata": {},
   "outputs": [],
   "source": [
    "csv_out = csv_out.drop(16645)"
   ]
  },
  {
   "cell_type": "code",
   "execution_count": 24,
   "metadata": {},
   "outputs": [],
   "source": [
    "csv_out = csv_out[['lat', 'lon']]\n",
    "csv_out.to_csv('points.csv')"
   ]
  },
  {
   "cell_type": "code",
   "execution_count": 6,
   "metadata": {},
   "outputs": [
    {
     "data": {
      "text/html": [
       "<div>\n",
       "<style scoped>\n",
       "    .dataframe tbody tr th:only-of-type {\n",
       "        vertical-align: middle;\n",
       "    }\n",
       "\n",
       "    .dataframe tbody tr th {\n",
       "        vertical-align: top;\n",
       "    }\n",
       "\n",
       "    .dataframe thead th {\n",
       "        text-align: right;\n",
       "    }\n",
       "</style>\n",
       "<table border=\"1\" class=\"dataframe\">\n",
       "  <thead>\n",
       "    <tr style=\"text-align: right;\">\n",
       "      <th></th>\n",
       "      <th>file_path</th>\n",
       "      <th>type</th>\n",
       "      <th>year</th>\n",
       "      <th>month</th>\n",
       "    </tr>\n",
       "  </thead>\n",
       "  <tbody>\n",
       "    <tr>\n",
       "      <th>0</th>\n",
       "      <td>data/tifs/wc2.1_cruts4.06_2.5m_prec_1990-1999/...</td>\n",
       "      <td>prec</td>\n",
       "      <td>1998</td>\n",
       "      <td>2</td>\n",
       "    </tr>\n",
       "    <tr>\n",
       "      <th>1</th>\n",
       "      <td>data/tifs/wc2.1_cruts4.06_2.5m_prec_1990-1999/...</td>\n",
       "      <td>prec</td>\n",
       "      <td>1998</td>\n",
       "      <td>9</td>\n",
       "    </tr>\n",
       "    <tr>\n",
       "      <th>2</th>\n",
       "      <td>data/tifs/wc2.1_cruts4.06_2.5m_prec_1990-1999/...</td>\n",
       "      <td>prec</td>\n",
       "      <td>1993</td>\n",
       "      <td>9</td>\n",
       "    </tr>\n",
       "    <tr>\n",
       "      <th>3</th>\n",
       "      <td>data/tifs/wc2.1_cruts4.06_2.5m_prec_1990-1999/...</td>\n",
       "      <td>prec</td>\n",
       "      <td>1999</td>\n",
       "      <td>5</td>\n",
       "    </tr>\n",
       "    <tr>\n",
       "      <th>4</th>\n",
       "      <td>data/tifs/wc2.1_cruts4.06_2.5m_prec_1990-1999/...</td>\n",
       "      <td>prec</td>\n",
       "      <td>1996</td>\n",
       "      <td>4</td>\n",
       "    </tr>\n",
       "    <tr>\n",
       "      <th>...</th>\n",
       "      <td>...</td>\n",
       "      <td>...</td>\n",
       "      <td>...</td>\n",
       "      <td>...</td>\n",
       "    </tr>\n",
       "    <tr>\n",
       "      <th>2227</th>\n",
       "      <td>data/tifs/wc2.1_cruts4.06_2.5m_tmin_2000-2009/...</td>\n",
       "      <td>tmin</td>\n",
       "      <td>2001</td>\n",
       "      <td>5</td>\n",
       "    </tr>\n",
       "    <tr>\n",
       "      <th>2228</th>\n",
       "      <td>data/tifs/wc2.1_cruts4.06_2.5m_tmin_2000-2009/...</td>\n",
       "      <td>tmin</td>\n",
       "      <td>2003</td>\n",
       "      <td>1</td>\n",
       "    </tr>\n",
       "    <tr>\n",
       "      <th>2229</th>\n",
       "      <td>data/tifs/wc2.1_cruts4.06_2.5m_tmin_2000-2009/...</td>\n",
       "      <td>tmin</td>\n",
       "      <td>2005</td>\n",
       "      <td>12</td>\n",
       "    </tr>\n",
       "    <tr>\n",
       "      <th>2230</th>\n",
       "      <td>data/tifs/wc2.1_cruts4.06_2.5m_tmin_2000-2009/...</td>\n",
       "      <td>tmin</td>\n",
       "      <td>2001</td>\n",
       "      <td>2</td>\n",
       "    </tr>\n",
       "    <tr>\n",
       "      <th>2231</th>\n",
       "      <td>data/tifs/wc2.1_cruts4.06_2.5m_tmin_2000-2009/...</td>\n",
       "      <td>tmin</td>\n",
       "      <td>2009</td>\n",
       "      <td>1</td>\n",
       "    </tr>\n",
       "  </tbody>\n",
       "</table>\n",
       "<p>2232 rows × 4 columns</p>\n",
       "</div>"
      ],
      "text/plain": [
       "                                              file_path  type  year  month\n",
       "0     data/tifs/wc2.1_cruts4.06_2.5m_prec_1990-1999/...  prec  1998      2\n",
       "1     data/tifs/wc2.1_cruts4.06_2.5m_prec_1990-1999/...  prec  1998      9\n",
       "2     data/tifs/wc2.1_cruts4.06_2.5m_prec_1990-1999/...  prec  1993      9\n",
       "3     data/tifs/wc2.1_cruts4.06_2.5m_prec_1990-1999/...  prec  1999      5\n",
       "4     data/tifs/wc2.1_cruts4.06_2.5m_prec_1990-1999/...  prec  1996      4\n",
       "...                                                 ...   ...   ...    ...\n",
       "2227  data/tifs/wc2.1_cruts4.06_2.5m_tmin_2000-2009/...  tmin  2001      5\n",
       "2228  data/tifs/wc2.1_cruts4.06_2.5m_tmin_2000-2009/...  tmin  2003      1\n",
       "2229  data/tifs/wc2.1_cruts4.06_2.5m_tmin_2000-2009/...  tmin  2005     12\n",
       "2230  data/tifs/wc2.1_cruts4.06_2.5m_tmin_2000-2009/...  tmin  2001      2\n",
       "2231  data/tifs/wc2.1_cruts4.06_2.5m_tmin_2000-2009/...  tmin  2009      1\n",
       "\n",
       "[2232 rows x 4 columns]"
      ]
     },
     "execution_count": 6,
     "metadata": {},
     "output_type": "execute_result"
    }
   ],
   "source": [
    "base_dir = 'data/tifs'\n",
    "\n",
    "tif_data = []\n",
    "\n",
    "for dirpath, dirnames, filenames in os.walk(base_dir):\n",
    "    for file in filenames:\n",
    "        if file.endswith('.tif'):\n",
    "            # Extract year and month from the filename\n",
    "            year, month = file.split('_')[-1].split('.')[0].split('-')\n",
    "            data_type = file.split('_')[-2]\n",
    "            \n",
    "            # Append to data list\n",
    "            tif_data.append({\n",
    "                'file_path': os.path.join(dirpath, file),\n",
    "                'type': data_type,\n",
    "                'year': int(year),\n",
    "                'month': int(month)\n",
    "            })\n",
    "\n",
    "df_tifs = pd.DataFrame(tif_data)\n",
    "\n",
    "df_tifs"
   ]
  },
  {
   "cell_type": "code",
   "execution_count": 7,
   "metadata": {},
   "outputs": [],
   "source": [
    "# import concurrent.futures\n",
    "\n",
    "# def get_value_from_tif(lat, long, file_path):\n",
    "#     with rasterio.open(file_path) as src:\n",
    "#         row, col = src.index(long, lat)\n",
    "#         value = src.read(1)[row, col]\n",
    "#     return value\n",
    "\n",
    "# def process_row(row, df_tifs):\n",
    "#     results = {}\n",
    "    \n",
    "#     for data_type in ['prec', 'tmin', 'tmax']:\n",
    "#         file_path = df_tifs[\n",
    "#             (df_tifs['type'] == data_type) &\n",
    "#             (df_tifs['year'] == row['year']) &\n",
    "#             (df_tifs['month'] == row['month'])\n",
    "#         ]['file_path'].iloc[0]\n",
    "        \n",
    "#         try:\n",
    "#             results[data_type] = get_value_from_tif(row['lat'], row['lon'], file_path)\n",
    "#         except:\n",
    "#             print('could not get value for ', row['lat'], row['lon'], file_path)\n",
    "#             results[data_type] = None\n",
    "    \n",
    "#     return results\n",
    "\n",
    "# data_loc_date['prec'] = None\n",
    "# data_loc_date['tmin'] = None\n",
    "# data_loc_date['tmax'] = None\n",
    "\n",
    "# with concurrent.futures.ProcessPoolExecutor() as executor:\n",
    "#     futures = {executor.submit(process_row, row, df_tifs): row for _, row in data_loc_date.iterrows()}\n",
    "    \n",
    "#     for future in concurrent.futures.as_completed(futures):\n",
    "#         row = futures[future]\n",
    "#         data = future.result()\n",
    "#         idx = row.name\n",
    "        \n",
    "#         data_loc_date.at[idx, 'prec'] = data['prec']\n",
    "#         data_loc_date.at[idx, 'tmin'] = data['tmin']\n",
    "#         data_loc_date.at[idx, 'tmax'] = data['tmax']\n",
    "\n"
   ]
  },
  {
   "cell_type": "code",
   "execution_count": 6,
   "metadata": {},
   "outputs": [
    {
     "name": "stdout",
     "output_type": "stream",
     "text": [
      "could not get value for 50.388493, 8.898926 from file wc2.1_30s_bio_11.tif\n"
     ]
    }
   ],
   "source": [
    "import os\n",
    "import rasterio\n",
    "import pandas as pd\n",
    "from concurrent.futures import ThreadPoolExecutor\n",
    "\n",
    "def get_value_from_tif(lat, long, file_path):\n",
    "    with rasterio.open(file_path) as src:\n",
    "        row, col = src.index(long, lat)\n",
    "        value = src.read(1)[row, col]\n",
    "    return value\n",
    "\n",
    "directory = '/home/mpgetz/repos/bee_mapping/data/wc2.1_30s_bio'\n",
    "all_files = [f for f in os.listdir(directory) if f.endswith('.tif') and \"wc2.1_30s_\" in f]\n",
    "\n",
    "for file in all_files:\n",
    "    column_name = file.split(\"wc2.1_30s_\")[1].replace(\".tif\", \"\")\n",
    "\n",
    "    data_loc_date[column_name] = None\n",
    "    \n",
    "    file_path = os.path.join(directory, file)\n",
    "    \n",
    "    for index, row in data_loc_date.iterrows():\n",
    "        try:\n",
    "            value = get_value_from_tif(row['lat'], row['lon'], file_path)\n",
    "            data_loc_date.at[index, column_name] = value\n",
    "        except:\n",
    "            print(f'could not get value for {row[\"lat\"]}, {row[\"lon\"]} from file {file}')\n",
    "    break\n",
    "\n",
    "data_loc_date.to_csv('test.csv')"
   ]
  },
  {
   "cell_type": "code",
   "execution_count": null,
   "metadata": {},
   "outputs": [],
   "source": [
    "def get_value_from_tif(lat, long, file_path):\n",
    "    try:\n",
    "        with rasterio.open(file_path) as src:\n",
    "            row, col = src.index(long, lat)\n",
    "            return src.read(1)[row, col]\n",
    "    except Exception as e:\n",
    "        print(f'Error at {lat}, {long}: {e}')\n",
    "        return None\n",
    "\n",
    "directory = '/home/mpgetz/repos/bee_mapping/data/wc2.1_30s_bio'\n",
    "all_files = [f for f in os.listdir(directory) if f.endswith('.tif') and \"wc2.1_30s_\" in f]\n",
    "\n",
    "def process_file(file):\n",
    "    column_name = file.split(\"wc2.1_30s_\")[1].replace(\".tif\", \"\")\n",
    "    file_path = os.path.join(directory, file)\n",
    "    data_loc_date[column_name] = data_loc_date.apply(lambda row: get_value_from_tif(row['lat'], row['lon'], file_path), axis=1)\n",
    "\n",
    "with ThreadPoolExecutor(max_workers=4) as executor:  # Adjust max_workers based on your CPU\n",
    "    executor.map(process_file, all_files)\n",
    "\n",
    "data_loc_date.to_csv('test.csv')"
   ]
  },
  {
   "cell_type": "code",
   "execution_count": 6,
   "metadata": {},
   "outputs": [
    {
     "name": "stdout",
     "output_type": "stream",
     "text": [
      "['wc2.1_30s_bio_11.tif', 'wc2.1_30s_bio_3.tif', 'wc2.1_30s_bio_9.tif', 'wc2.1_30s_bio_13.tif', 'wc2.1_30s_bio_5.tif', 'wc2.1_30s_bio_6.tif', 'wc2.1_30s_elev.tif', 'wc2.1_30s_bio_17.tif', 'wc2.1_30s_bio_10.tif', 'wc2.1_30s_bio_2.tif', 'wc2.1_30s_bio_15.tif', 'wc2.1_30s_bio_12.tif', 'wc2.1_30s_bio_1.tif', 'wc2.1_30s_bio_16.tif', 'wc2.1_30s_bio_8.tif', 'wc2.1_30s_bio_4.tif', 'wc2.1_30s_bio_19.tif', 'wc2.1_30s_bio_7.tif', 'wc2.1_30s_bio_14.tif', 'wc2.1_30s_bio_18.tif']\n",
      "Processing: bio_11\n",
      "\n",
      "Processing: bio_3\n",
      "\n",
      "Processing: bio_9\n",
      "\n",
      "Processing: bio_13\n",
      "\n",
      "Processing: bio_5\n",
      "\n",
      "Processing: bio_6\n",
      "\n",
      "Processing: elev\n",
      "\n",
      "Processing: bio_17\n",
      "\n"
     ]
    },
    {
     "ename": "",
     "evalue": "",
     "output_type": "error",
     "traceback": [
      "\u001b[1;31mThe Kernel crashed while executing code in the the current cell or a previous cell. Please review the code in the cell(s) to identify a possible cause of the failure. Click <a href='https://aka.ms/vscodeJupyterKernelCrash'>here</a> for more info. View Jupyter <a href='command:jupyter.viewOutput'>log</a> for further details."
     ]
    }
   ],
   "source": [
    "import os\n",
    "import rasterio\n",
    "import pandas as pd\n",
    "from concurrent.futures import ThreadPoolExecutor\n",
    "\n",
    "def get_value_from_array(lat, long, src, array):\n",
    "    try:\n",
    "        row, col = src.index(long, lat)\n",
    "        return array[row, col]\n",
    "    except Exception as e:\n",
    "        print(f'Error at {lat}, {long}: {e}')\n",
    "        return None\n",
    "\n",
    "directory = '/home/mpgetz/repos/bee_mapping/data/wc2.1_30s_bio'\n",
    "all_files = [f for f in os.listdir(directory) if f.endswith('.tif') and \"wc2.1_30s_\" in f]\n",
    "\n",
    "print(all_files)\n",
    "\n",
    "def process_file(file):\n",
    "    column_name = file.split(\"wc2.1_30s_\")[1].replace(\".tif\", \"\")\n",
    "    file_path = os.path.join(directory, file)\n",
    "    print(f'Processing: {column_name}\\n')\n",
    "\n",
    "    with rasterio.open(file_path) as src:\n",
    "        array = src.read(1)  # Read the entire file into an array\n",
    "        data_loc_date[column_name] = data_loc_date.apply(lambda row: get_value_from_array(row['lat'], row['lon'], src, array), axis=1)\n",
    "\n",
    "# Assuming data_loc_date is your DataFrame with lat and lon\n",
    "with ThreadPoolExecutor(max_workers=8) as executor:  # Adjust max_workers based on your CPU\n",
    "    executor.map(process_file, all_files)\n",
    "\n",
    "data_loc_date.to_csv('test2.csv')\n"
   ]
  },
  {
   "cell_type": "code",
   "execution_count": null,
   "metadata": {},
   "outputs": [],
   "source": []
  }
 ],
 "metadata": {
  "kernelspec": {
   "display_name": "bee_mapping",
   "language": "python",
   "name": "python3"
  },
  "language_info": {
   "codemirror_mode": {
    "name": "ipython",
    "version": 3
   },
   "file_extension": ".py",
   "mimetype": "text/x-python",
   "name": "python",
   "nbconvert_exporter": "python",
   "pygments_lexer": "ipython3",
   "version": "3.12.0"
  }
 },
 "nbformat": 4,
 "nbformat_minor": 2
}
